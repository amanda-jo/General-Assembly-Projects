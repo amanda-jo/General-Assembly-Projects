{
 "cells": [
  {
   "cell_type": "markdown",
   "metadata": {},
   "source": [
    "# Preprocessing & Modeling"
   ]
  },
  {
   "cell_type": "markdown",
   "metadata": {},
   "source": [
    "##### Imported libraries."
   ]
  },
  {
   "cell_type": "code",
   "execution_count": 63,
   "metadata": {},
   "outputs": [],
   "source": [
    "import pandas as pd\n",
    "import numpy as np\n",
    "import matplotlib.pyplot as plt\n",
    "import seaborn as sns\n",
    "import sklearn.metrics as metrics\n",
    "from sklearn.pipeline import Pipeline\n",
    "from sklearn.model_selection import train_test_split, GridSearchCV, cross_val_score\n",
    "from sklearn.linear_model import LogisticRegression\n",
    "from sklearn.feature_extraction import stop_words\n",
    "from sklearn.feature_extraction.text import CountVectorizer, TfidfVectorizer\n",
    "from sklearn.neighbors import KNeighborsClassifier\n",
    "from sklearn.metrics import confusion_matrix, classification_report, roc_curve, auc\n",
    "from sklearn.ensemble import RandomForestClassifier \n",
    "from sklearn.naive_bayes import MultinomialNB\n",
    "from pactools.grid_search import GridSearchCVProgressBar\n",
    "\n",
    "import warnings\n",
    "warnings.filterwarnings('ignore')"
   ]
  },
  {
   "cell_type": "markdown",
   "metadata": {},
   "source": [
    "##### Read in previously saved csv file with cleaned data."
   ]
  },
  {
   "cell_type": "code",
   "execution_count": 2,
   "metadata": {},
   "outputs": [],
   "source": [
    "df = pd.read_csv('./datasets/lyft_uber_all.csv')"
   ]
  },
  {
   "cell_type": "code",
   "execution_count": 3,
   "metadata": {},
   "outputs": [
    {
     "data": {
      "text/html": [
       "<div>\n",
       "<style scoped>\n",
       "    .dataframe tbody tr th:only-of-type {\n",
       "        vertical-align: middle;\n",
       "    }\n",
       "\n",
       "    .dataframe tbody tr th {\n",
       "        vertical-align: top;\n",
       "    }\n",
       "\n",
       "    .dataframe thead th {\n",
       "        text-align: right;\n",
       "    }\n",
       "</style>\n",
       "<table border=\"1\" class=\"dataframe\">\n",
       "  <thead>\n",
       "    <tr style=\"text-align: right;\">\n",
       "      <th></th>\n",
       "      <th>subreddit</th>\n",
       "      <th>text</th>\n",
       "    </tr>\n",
       "  </thead>\n",
       "  <tbody>\n",
       "    <tr>\n",
       "      <th>0</th>\n",
       "      <td>0</td>\n",
       "      <td>Nightlife PlaylistI usually drive people going...</td>\n",
       "    </tr>\n",
       "    <tr>\n",
       "      <th>1</th>\n",
       "      <td>1</td>\n",
       "      <td>Uber should add this feature to their app to m...</td>\n",
       "    </tr>\n",
       "    <tr>\n",
       "      <th>2</th>\n",
       "      <td>1</td>\n",
       "      <td>Interest in starting but I drive a JeepI want ...</td>\n",
       "    </tr>\n",
       "    <tr>\n",
       "      <th>3</th>\n",
       "      <td>0</td>\n",
       "      <td>Uber or Lyft while vacationingSo, I would like...</td>\n",
       "    </tr>\n",
       "    <tr>\n",
       "      <th>4</th>\n",
       "      <td>0</td>\n",
       "      <td>I got co-erced into getting someone a Lyft, wh...</td>\n",
       "    </tr>\n",
       "  </tbody>\n",
       "</table>\n",
       "</div>"
      ],
      "text/plain": [
       "   subreddit                                               text\n",
       "0          0  Nightlife PlaylistI usually drive people going...\n",
       "1          1  Uber should add this feature to their app to m...\n",
       "2          1  Interest in starting but I drive a JeepI want ...\n",
       "3          0  Uber or Lyft while vacationingSo, I would like...\n",
       "4          0  I got co-erced into getting someone a Lyft, wh..."
      ]
     },
     "execution_count": 3,
     "metadata": {},
     "output_type": "execute_result"
    }
   ],
   "source": [
    "df.head()"
   ]
  },
  {
   "cell_type": "markdown",
   "metadata": {},
   "source": [
    "## Transformation Methods: \n",
    "-Count Vectorizor<br>\n",
    "-TF-IDF"
   ]
  },
  {
   "cell_type": "markdown",
   "metadata": {},
   "source": [
    "## Classification Models: \n",
    "-Logistic Regression <br>\n",
    "-K-Nearest Neighbors <br>\n",
    "-Naive Bayes <br>\n",
    "-Random Forest"
   ]
  },
  {
   "cell_type": "markdown",
   "metadata": {},
   "source": [
    "##### Train/Test Split to be used for all models"
   ]
  },
  {
   "cell_type": "code",
   "execution_count": 4,
   "metadata": {},
   "outputs": [],
   "source": [
    "X_train, X_test, y_train, y_test = train_test_split(df['text'],\n",
    "                                                    df['subreddit'],\n",
    "                                                    test_size=0.30,\n",
    "                                                    random_state=27)"
   ]
  },
  {
   "cell_type": "markdown",
   "metadata": {},
   "source": [
    "##### Baseline to improve upon: 50.1%"
   ]
  },
  {
   "cell_type": "code",
   "execution_count": 5,
   "metadata": {},
   "outputs": [
    {
     "data": {
      "text/plain": [
       "0.5010204081632653"
      ]
     },
     "execution_count": 5,
     "metadata": {},
     "output_type": "execute_result"
    }
   ],
   "source": [
    "# determine baseline\n",
    "baseline = y_train.mean()\n",
    "baseline"
   ]
  },
  {
   "cell_type": "markdown",
   "metadata": {},
   "source": [
    "## Model 1: Count Vectorizer + Logistic Regression"
   ]
  },
  {
   "cell_type": "code",
   "execution_count": 65,
   "metadata": {},
   "outputs": [
    {
     "name": "stdout",
     "output_type": "stream",
     "text": [
      "[........................................] 100% | 124.18 sec | GridSearchCV \n"
     ]
    },
    {
     "data": {
      "text/plain": [
       "GridSearchCVProgressBar(cv=3, error_score='raise',\n",
       "            estimator=Pipeline(memory=None,\n",
       "     steps=[('cvec', CountVectorizer(analyzer='word', binary=False, decode_error='strict',\n",
       "        dtype=<class 'numpy.int64'>, encoding='utf-8', input='content',\n",
       "        lowercase=True, max_df=1.0, max_features=None, min_df=1,\n",
       "        ngram_range=(1, 1), preprocessor=None, stop_words=None,\n",
       "        strip...ty='l2', random_state=None, solver='liblinear', tol=0.0001,\n",
       "          verbose=0, warm_start=False))]),\n",
       "            fit_params=None, iid=True, n_jobs=1,\n",
       "            param_grid={'cvec__stop_words': [None, 'english'], 'cvec__min_df': [2, 11, 22, 54], 'cvec__max_features': [None, 700, 500, 200, 20], 'logr__penalty': ['l1', 'l2'], 'logr__C': [0.1, 0.4, 0.7, 1.0]},\n",
       "            pre_dispatch='2*n_jobs', refit=True, return_train_score='warn',\n",
       "            scoring=None, verbose=0)"
      ]
     },
     "execution_count": 65,
     "metadata": {},
     "output_type": "execute_result"
    }
   ],
   "source": [
    "pipe = Pipeline([\n",
    "    ('cvec', CountVectorizer()),\n",
    "    ('logr', LogisticRegression())])\n",
    "\n",
    "params = {\n",
    "    'cvec__stop_words': [None, 'english'],\n",
    "    'cvec__min_df' : [2, 11, 22, 54],\n",
    "    'cvec__max_features' : [None, 700, 500, 200, 20],\n",
    "    'logr__penalty': ['l1', 'l2'],\n",
    "    'logr__C': [0.1, 0.4, 0.7, 1.0]}\n",
    "\n",
    "\n",
    "model_1 = GridSearchCVProgressBar(pipe, params, cv = 3)\n",
    "model_1.fit(X_train, y_train)"
   ]
  },
  {
   "cell_type": "markdown",
   "metadata": {},
   "source": [
    "##### Due to kernel processing issues, local instructor assisted by saving model results with pickle method."
   ]
  },
  {
   "cell_type": "code",
   "execution_count": 7,
   "metadata": {},
   "outputs": [],
   "source": [
    "import pickle\n",
    "\n",
    "with open('./datasets/model_1.pkl', 'wb') as f:\n",
    "    pickle.dump(model_1, f)\n",
    "    \n",
    "# with open('./model_1.pkl', 'wb') as f:\n",
    "#     pickle.dump(model_1, f)    "
   ]
  },
  {
   "cell_type": "code",
   "execution_count": 8,
   "metadata": {},
   "outputs": [],
   "source": [
    "import pickle\n",
    "with open('./datasets/model_1.pkl', 'rb') as f:\n",
    "    model_1 = pickle.load(f)"
   ]
  },
  {
   "cell_type": "code",
   "execution_count": 79,
   "metadata": {},
   "outputs": [
    {
     "data": {
      "text/plain": [
       "{'cvec__max_features': 200,\n",
       " 'cvec__min_df': 11,\n",
       " 'cvec__stop_words': 'english',\n",
       " 'logr__C': 0.1,\n",
       " 'logr__penalty': 'l2'}"
      ]
     },
     "execution_count": 79,
     "metadata": {},
     "output_type": "execute_result"
    }
   ],
   "source": [
    "model_1.best_params_"
   ]
  },
  {
   "cell_type": "code",
   "execution_count": 70,
   "metadata": {},
   "outputs": [],
   "source": [
    "y_preds = model_1.predict(X_test)"
   ]
  },
  {
   "cell_type": "code",
   "execution_count": 11,
   "metadata": {},
   "outputs": [
    {
     "data": {
      "image/png": "[encoded data removed]",
      "text/plain": [
       "<Figure size 432x288 with 1 Axes>"
      ]
     },
     "metadata": {
      "needs_background": "light"
     },
     "output_type": "display_data"
    }
   ],
   "source": [
    "# calculate fpr & tpr / graph roc curve\n",
    "probs = model_1.predict_proba(X_test)\n",
    "preds = probs[:,1]\n",
    "fpr, tpr, threshold = metrics.roc_curve(y_test, preds)\n",
    "roc_auc = metrics.auc(fpr, tpr)\n",
    "\n",
    "plt.title('Receiver Operating Characteristic: Model 1')\n",
    "plt.plot(fpr, tpr, 'green', label = 'AUC = %0.2f' % roc_auc)\n",
    "plt.legend(loc = 'lower right')\n",
    "plt.plot([0, 1], [0, 1],'k--')\n",
    "plt.xlim([0, 1])\n",
    "plt.ylim([0, 1])\n",
    "plt.ylabel('True Positive Rate')\n",
    "plt.xlabel('False Positive Rate')\n",
    "plt.show()"
   ]
  },
  {
   "cell_type": "code",
   "execution_count": 12,
   "metadata": {},
   "outputs": [
    {
     "name": "stdout",
     "output_type": "stream",
     "text": [
      "{'cvec__max_features': 200, 'cvec__min_df': 11, 'cvec__stop_words': 'english', 'logr__C': 0.1, 'logr__penalty': 'l2'}\n",
      "Train Accuracy: 0.9010204081632653\n",
      "Test Accuracy: 0.8574821852731591\n",
      "Best CV Test Score: 0.8581632653061224\n",
      "AUC: 0.9441\n"
     ]
    }
   ],
   "source": [
    "print(model_1.best_params_)\n",
    "print('Train Accuracy:', model_1.score(X_train, y_train))\n",
    "print('Test Accuracy:', model_1.score(X_test, y_test))\n",
    "print('Best CV Test Score:', model_1.best_score_)\n",
    "print('AUC:', round(roc_auc, 4))"
   ]
  },
  {
   "cell_type": "code",
   "execution_count": 13,
   "metadata": {},
   "outputs": [],
   "source": [
    "model_coef = model_1.best_estimator_.named_steps['logr'].coef_"
   ]
  },
  {
   "cell_type": "code",
   "execution_count": 14,
   "metadata": {},
   "outputs": [],
   "source": [
    "model_feats = model_1.best_estimator_.named_steps['cvec'].get_feature_names()"
   ]
  },
  {
   "cell_type": "code",
   "execution_count": 15,
   "metadata": {},
   "outputs": [
    {
     "data": {
      "text/plain": [
       "((200,), 200)"
      ]
     },
     "execution_count": 15,
     "metadata": {},
     "output_type": "execute_result"
    }
   ],
   "source": [
    "model_coef[0].shape, len(model_feats)"
   ]
  },
  {
   "cell_type": "code",
   "execution_count": 16,
   "metadata": {},
   "outputs": [],
   "source": [
    "coef_df = pd.DataFrame([model_feats, list(model_coef[0])], index=['features', 'coef']).T"
   ]
  },
  {
   "cell_type": "code",
   "execution_count": 17,
   "metadata": {},
   "outputs": [
    {
     "data": {
      "text/plain": [
       "array([ 2.71828183,  7.3890561 , 20.08553692])"
      ]
     },
     "execution_count": 17,
     "metadata": {},
     "output_type": "execute_result"
    }
   ],
   "source": [
    "np.exp([1,2,3])"
   ]
  },
  {
   "cell_type": "code",
   "execution_count": 18,
   "metadata": {},
   "outputs": [
    {
     "data": {
      "text/plain": [
       "array([ 2.71828183,  7.3890561 , 20.08553692])"
      ]
     },
     "execution_count": 18,
     "metadata": {},
     "output_type": "execute_result"
    }
   ],
   "source": [
    "np.exp(np.array([1,2,3]))"
   ]
  },
  {
   "cell_type": "code",
   "execution_count": 19,
   "metadata": {},
   "outputs": [],
   "source": [
    "coef_df['e_coef'] = np.e**(coef_df['coef'])"
   ]
  },
  {
   "cell_type": "code",
   "execution_count": 64,
   "metadata": {},
   "outputs": [
    {
     "data": {
      "text/html": [
       "<div>\n",
       "<style scoped>\n",
       "    .dataframe tbody tr th:only-of-type {\n",
       "        vertical-align: middle;\n",
       "    }\n",
       "\n",
       "    .dataframe tbody tr th {\n",
       "        vertical-align: top;\n",
       "    }\n",
       "\n",
       "    .dataframe thead th {\n",
       "        text-align: right;\n",
       "    }\n",
       "</style>\n",
       "<table border=\"1\" class=\"dataframe\">\n",
       "  <thead>\n",
       "    <tr style=\"text-align: right;\">\n",
       "      <th></th>\n",
       "      <th>features</th>\n",
       "      <th>coef</th>\n",
       "      <th>e_coef</th>\n",
       "    </tr>\n",
       "  </thead>\n",
       "  <tbody>\n",
       "    <tr>\n",
       "      <th>180</th>\n",
       "      <td>uber</td>\n",
       "      <td>1.79838</td>\n",
       "      <td>6.03983</td>\n",
       "    </tr>\n",
       "    <tr>\n",
       "      <th>134</th>\n",
       "      <td>rating</td>\n",
       "      <td>0.336501</td>\n",
       "      <td>1.40004</td>\n",
       "    </tr>\n",
       "    <tr>\n",
       "      <th>122</th>\n",
       "      <td>people</td>\n",
       "      <td>0.289465</td>\n",
       "      <td>1.33571</td>\n",
       "    </tr>\n",
       "    <tr>\n",
       "      <th>28</th>\n",
       "      <td>charged</td>\n",
       "      <td>0.285255</td>\n",
       "      <td>1.3301</td>\n",
       "    </tr>\n",
       "    <tr>\n",
       "      <th>50</th>\n",
       "      <td>driver</td>\n",
       "      <td>0.276226</td>\n",
       "      <td>1.31815</td>\n",
       "    </tr>\n",
       "  </tbody>\n",
       "</table>\n",
       "</div>"
      ],
      "text/plain": [
       "    features      coef   e_coef\n",
       "180     uber   1.79838  6.03983\n",
       "134   rating  0.336501  1.40004\n",
       "122   people  0.289465  1.33571\n",
       "28   charged  0.285255   1.3301\n",
       "50    driver  0.276226  1.31815"
      ]
     },
     "execution_count": 64,
     "metadata": {},
     "output_type": "execute_result"
    }
   ],
   "source": [
    "coef_df.sort_values(by='e_coef',ascending=False).head()\n",
    "\n",
    "#for every occurence of word 'uber', 6 times as likely to observe a positive class"
   ]
  },
  {
   "cell_type": "markdown",
   "metadata": {},
   "source": [
    "##### Interpreted coefficients:\n",
    "For every increase in the appearance of the word 'uber', it is 6.04 times more likely for that post to be in the positive class (from the Uber subreddit). This was the highest coefficient - the next ones drop quite a bit ('rating': 1.40, 'people': 1.34, 'charged': 1.33), etc.\n"
   ]
  },
  {
   "cell_type": "markdown",
   "metadata": {},
   "source": [
    "##### Calculated Confusion Matrix values:"
   ]
  },
  {
   "cell_type": "code",
   "execution_count": 71,
   "metadata": {},
   "outputs": [
    {
     "data": {
      "text/plain": [
       "array([[196,  16],\n",
       "       [ 44, 165]])"
      ]
     },
     "execution_count": 71,
     "metadata": {},
     "output_type": "execute_result"
    }
   ],
   "source": [
    "confusion_matrix(y_test, y_preds)"
   ]
  },
  {
   "cell_type": "code",
   "execution_count": 72,
   "metadata": {},
   "outputs": [],
   "source": [
    "tn, fp, fn, tp = confusion_matrix(y_test, y_preds).ravel()"
   ]
  },
  {
   "cell_type": "code",
   "execution_count": 73,
   "metadata": {},
   "outputs": [
    {
     "name": "stdout",
     "output_type": "stream",
     "text": [
      "True Negatives: 196\n",
      "False Positives: 16\n",
      "False Negatives: 44\n",
      "True Positives: 165\n"
     ]
    }
   ],
   "source": [
    "print(\"True Negatives: %s\" % tn)\n",
    "print(\"False Positives: %s\" % fp)\n",
    "print(\"False Negatives: %s\" % fn)\n",
    "print(\"True Positives: %s\" % tp)"
   ]
  },
  {
   "cell_type": "code",
   "execution_count": 76,
   "metadata": {},
   "outputs": [
    {
     "name": "stdout",
     "output_type": "stream",
     "text": [
      "Accuracy: 0.8574821852731591\n",
      "Sensitivity: 0.7783018867924528\n",
      "Specificity: 0.9245283018867925\n",
      "Precision: 0.9116022099447514\n"
     ]
    }
   ],
   "source": [
    "print(\"Accuracy:\", ((tp + tn)/(tp + tn + fp + fn)))\n",
    "print(\"Sensitivity:\", (tp/(fp + tn)))\n",
    "print(\"Specificity:\", (tn/(fp + tn)))\n",
    "print(\"Precision:\", (tp/(tp + fp)))"
   ]
  },
  {
   "cell_type": "markdown",
   "metadata": {},
   "source": [
    "## Model 2: Count Vectorizer + KNN"
   ]
  },
  {
   "cell_type": "code",
   "execution_count": 21,
   "metadata": {},
   "outputs": [
    {
     "name": "stdout",
     "output_type": "stream",
     "text": [
      "[........................................] 100% | 100.21 sec | GridSearchCV \n"
     ]
    },
    {
     "data": {
      "text/plain": [
       "GridSearchCVProgressBar(cv=3, error_score='raise',\n",
       "            estimator=Pipeline(memory=None,\n",
       "     steps=[('cvec', CountVectorizer(analyzer='word', binary=False, decode_error='strict',\n",
       "        dtype=<class 'numpy.int64'>, encoding='utf-8', input='content',\n",
       "        lowercase=True, max_df=1.0, max_features=None, min_df=1,\n",
       "        ngram_range=(1, 1), preprocessor=None, stop_words=None,\n",
       "        strip...owski',\n",
       "           metric_params=None, n_jobs=1, n_neighbors=5, p=2,\n",
       "           weights='uniform'))]),\n",
       "            fit_params=None, iid=True, n_jobs=1,\n",
       "            param_grid={'cvec__stop_words': [None, 'english'], 'cvec__min_df': [2, 11, 22, 54], 'cvec__max_features': [None, 700, 500, 200, 20], 'knn__n_neighbors': [2, 7, 11, 27, 77]},\n",
       "            pre_dispatch='2*n_jobs', refit=True, return_train_score='warn',\n",
       "            scoring=None, verbose=0)"
      ]
     },
     "execution_count": 21,
     "metadata": {},
     "output_type": "execute_result"
    }
   ],
   "source": [
    "pipe = Pipeline([\n",
    "    ('cvec', CountVectorizer()),\n",
    "    ('knn', KNeighborsClassifier())])\n",
    "\n",
    "params = {\n",
    "    'cvec__stop_words': [None, 'english'],\n",
    "    'cvec__min_df' : [2, 11, 22, 54],\n",
    "    'cvec__max_features' : [None, 700, 500, 200, 20],\n",
    "    'knn__n_neighbors': [2, 7, 11, 27, 77]}\n",
    "\n",
    "\n",
    "model_2 = GridSearchCVProgressBar(pipe, params, cv = 3)\n",
    "model_2.fit(X_train, y_train)"
   ]
  },
  {
   "cell_type": "code",
   "execution_count": 22,
   "metadata": {},
   "outputs": [
    {
     "data": {
      "text/plain": [
       "{'cvec__max_features': None,\n",
       " 'cvec__min_df': 11,\n",
       " 'cvec__stop_words': 'english',\n",
       " 'knn__n_neighbors': 77}"
      ]
     },
     "execution_count": 22,
     "metadata": {},
     "output_type": "execute_result"
    }
   ],
   "source": [
    "model_2.best_params_"
   ]
  },
  {
   "cell_type": "code",
   "execution_count": 23,
   "metadata": {},
   "outputs": [],
   "source": [
    "y_preds = model_2.predict(X_test)"
   ]
  },
  {
   "cell_type": "code",
   "execution_count": 24,
   "metadata": {},
   "outputs": [
    {
     "data": {
      "image/png": "[encoded data removed]",
      "text/plain": [
       "<Figure size 432x288 with 1 Axes>"
      ]
     },
     "metadata": {
      "needs_background": "light"
     },
     "output_type": "display_data"
    }
   ],
   "source": [
    "# calculate fpr & tpr / graph roc curve\n",
    "probs = model_2.predict_proba(X_test)\n",
    "preds = probs[:,1]\n",
    "fpr, tpr, threshold = metrics.roc_curve(y_test, preds)\n",
    "roc_auc = metrics.auc(fpr, tpr)\n",
    "\n",
    "plt.title('Receiver Operating Characteristic: Model 2')\n",
    "plt.plot(fpr, tpr, 'g', label = 'AUC = %0.2f' % roc_auc)\n",
    "plt.legend(loc = 'lower right')\n",
    "plt.plot([0, 1], [0, 1],'k--')\n",
    "plt.xlim([0, 1])\n",
    "plt.ylim([0, 1])\n",
    "plt.ylabel('True Positive Rate')\n",
    "plt.xlabel('False Positive Rate')\n",
    "plt.show()"
   ]
  },
  {
   "cell_type": "code",
   "execution_count": 25,
   "metadata": {},
   "outputs": [
    {
     "name": "stdout",
     "output_type": "stream",
     "text": [
      "{'cvec__max_features': None, 'cvec__min_df': 11, 'cvec__stop_words': 'english', 'knn__n_neighbors': 77}\n",
      "Train Accuracy: 0.8520408163265306\n",
      "Test Accuracy: 0.8456057007125891\n",
      "Best CV Test Score: 0.8489795918367347\n",
      "AUC: 0.9302\n"
     ]
    }
   ],
   "source": [
    "print(model_2.best_params_)\n",
    "print('Train Accuracy:', model_2.score(X_train, y_train))\n",
    "print('Test Accuracy:', model_2.score(X_test, y_test))\n",
    "print('Best CV Test Score:', model_2.best_score_)\n",
    "print('AUC:', round(roc_auc, 4))"
   ]
  },
  {
   "cell_type": "markdown",
   "metadata": {},
   "source": [
    "## Model 3: Count Vectorizer + Naive Bayes"
   ]
  },
  {
   "cell_type": "code",
   "execution_count": 26,
   "metadata": {},
   "outputs": [
    {
     "name": "stdout",
     "output_type": "stream",
     "text": [
      "[........................................] 100% | 185.08 sec | GridSearchCV \n"
     ]
    },
    {
     "data": {
      "text/plain": [
       "GridSearchCVProgressBar(cv=3, error_score='raise',\n",
       "            estimator=Pipeline(memory=None,\n",
       "     steps=[('cvec', CountVectorizer(analyzer='word', binary=False, decode_error='strict',\n",
       "        dtype=<class 'numpy.int64'>, encoding='utf-8', input='content',\n",
       "        lowercase=True, max_df=1.0, max_features=None, min_df=1,\n",
       "        ngram_range=(1, 1), preprocessor=None, stop_words=None,\n",
       "        strip_accents=None, token_pattern='(?u)\\\\b\\\\w\\\\w+\\\\b',\n",
       "        tokenizer=None, vocabulary=None)), ('nb', MultinomialNB(alpha=1.0, class_prior=None, fit_prior=True))]),\n",
       "            fit_params=None, iid=True, n_jobs=1,\n",
       "            param_grid={'cvec__stop_words': [None, 'english'], 'cvec__ngram_range': [(1, 1), (1, 2), (2, 2)], 'cvec__min_df': [2, 11, 22], 'cvec__max_features': [None, 700, 500, 200, 20], 'nb__alpha': [1, 0.1, 0.01]},\n",
       "            pre_dispatch='2*n_jobs', refit=True, return_train_score='warn',\n",
       "            scoring=None, verbose=0)"
      ]
     },
     "execution_count": 26,
     "metadata": {},
     "output_type": "execute_result"
    }
   ],
   "source": [
    "pipe = Pipeline([\n",
    "    ('cvec', CountVectorizer()),\n",
    "    ('nb', MultinomialNB())])\n",
    "\n",
    "params = {\n",
    "    'cvec__stop_words': [None, 'english'],\n",
    "    'cvec__ngram_range': [(1, 1), (1, 2), (2, 2)],\n",
    "    'cvec__min_df' : [2, 11, 22],\n",
    "    'cvec__max_features' : [None, 700, 500, 200, 20],\n",
    "    'nb__alpha': [1, 1e-1, 1e-2]}\n",
    "\n",
    "\n",
    "model_3 = GridSearchCVProgressBar(pipe, params, cv = 3)\n",
    "model_3.fit(X_train, y_train)"
   ]
  },
  {
   "cell_type": "code",
   "execution_count": 27,
   "metadata": {},
   "outputs": [
    {
     "data": {
      "text/plain": [
       "{'cvec__max_features': 700,\n",
       " 'cvec__min_df': 2,\n",
       " 'cvec__ngram_range': (1, 2),\n",
       " 'cvec__stop_words': 'english',\n",
       " 'nb__alpha': 1}"
      ]
     },
     "execution_count": 27,
     "metadata": {},
     "output_type": "execute_result"
    }
   ],
   "source": [
    "model_3.best_params_"
   ]
  },
  {
   "cell_type": "code",
   "execution_count": 28,
   "metadata": {},
   "outputs": [],
   "source": [
    "y_preds = model_3.predict(X_test)"
   ]
  },
  {
   "cell_type": "code",
   "execution_count": 29,
   "metadata": {},
   "outputs": [
    {
     "data": {
      "image/png": "[encoded data removed]",
      "text/plain": [
       "<Figure size 432x288 with 1 Axes>"
      ]
     },
     "metadata": {
      "needs_background": "light"
     },
     "output_type": "display_data"
    }
   ],
   "source": [
    "# calculate fpr & tpr / graph roc curve\n",
    "probs = model_3.predict_proba(X_test)\n",
    "preds = probs[:,1]\n",
    "fpr, tpr, threshold = metrics.roc_curve(y_test, preds)\n",
    "roc_auc = metrics.auc(fpr, tpr)\n",
    "\n",
    "plt.title('Receiver Operating Characteristic: Model 3')\n",
    "plt.plot(fpr, tpr, 'g', label = 'AUC = %0.2f' % roc_auc)\n",
    "plt.legend(loc = 'lower right')\n",
    "plt.plot([0, 1], [0, 1],'k--')\n",
    "plt.xlim([0, 1])\n",
    "plt.ylim([0, 1])\n",
    "plt.ylabel('True Positive Rate')\n",
    "plt.xlabel('False Positive Rate')\n",
    "plt.show()"
   ]
  },
  {
   "cell_type": "code",
   "execution_count": 30,
   "metadata": {},
   "outputs": [
    {
     "name": "stdout",
     "output_type": "stream",
     "text": [
      "{'cvec__max_features': 700, 'cvec__min_df': 2, 'cvec__ngram_range': (1, 2), 'cvec__stop_words': 'english', 'nb__alpha': 1}\n",
      "Train Accuracy: 0.8775510204081632\n",
      "Test Accuracy: 0.8194774346793349\n",
      "Best CV Test Score: 0.8204081632653061\n",
      "AUC: 0.9146\n"
     ]
    }
   ],
   "source": [
    "print(model_3.best_params_)\n",
    "print('Train Accuracy:', model_3.score(X_train, y_train))\n",
    "print('Test Accuracy:', model_3.score(X_test, y_test))\n",
    "print('Best CV Test Score:', model_3.best_score_)\n",
    "print('AUC:', round(roc_auc, 4))"
   ]
  },
  {
   "cell_type": "markdown",
   "metadata": {},
   "source": [
    "## Model 4: Count Vectorizer + Random Forest"
   ]
  },
  {
   "cell_type": "code",
   "execution_count": 31,
   "metadata": {},
   "outputs": [
    {
     "name": "stdout",
     "output_type": "stream",
     "text": [
      "[........................................] 100% | 358.44 sec | GridSearchCV \n"
     ]
    },
    {
     "data": {
      "text/plain": [
       "GridSearchCVProgressBar(cv=3, error_score='raise',\n",
       "            estimator=Pipeline(memory=None,\n",
       "     steps=[('cvec', CountVectorizer(analyzer='word', binary=False, decode_error='strict',\n",
       "        dtype=<class 'numpy.int64'>, encoding='utf-8', input='content',\n",
       "        lowercase=True, max_df=1.0, max_features=None, min_df=1,\n",
       "        ngram_range=(1, 1), preprocessor=None, stop_words=None,\n",
       "        strip...n_jobs=1,\n",
       "            oob_score=False, random_state=None, verbose=0,\n",
       "            warm_start=False))]),\n",
       "            fit_params=None, iid=True, n_jobs=1,\n",
       "            param_grid={'cvec__stop_words': [None, 'english'], 'cvec__min_df': [2, 11, 22], 'cvec__max_features': [None, 700, 500, 200, 20], 'rf__n_estimators': [10, 20, 50, 100, 200], 'rf__max_depth': [2, 7, 11]},\n",
       "            pre_dispatch='2*n_jobs', refit=True, return_train_score='warn',\n",
       "            scoring=None, verbose=0)"
      ]
     },
     "execution_count": 31,
     "metadata": {},
     "output_type": "execute_result"
    }
   ],
   "source": [
    "pipe = Pipeline([\n",
    "    ('cvec', CountVectorizer()),\n",
    "    ('rf', RandomForestClassifier())])\n",
    "\n",
    "params = {\n",
    "    'cvec__stop_words': [None, 'english'],\n",
    "    'cvec__min_df' : [2, 11, 22],\n",
    "    'cvec__max_features' : [None, 700, 500, 200, 20],\n",
    "    'rf__n_estimators': [10, 20, 50, 100, 200],\n",
    "    'rf__max_depth': [2,7,11]}\n",
    "\n",
    "\n",
    "model_4 = GridSearchCVProgressBar(pipe, params, cv = 3)\n",
    "model_4.fit(X_train, y_train)"
   ]
  },
  {
   "cell_type": "code",
   "execution_count": 32,
   "metadata": {},
   "outputs": [
    {
     "data": {
      "text/plain": [
       "{'cvec__max_features': 700,\n",
       " 'cvec__min_df': 2,\n",
       " 'cvec__stop_words': 'english',\n",
       " 'rf__max_depth': 11,\n",
       " 'rf__n_estimators': 100}"
      ]
     },
     "execution_count": 32,
     "metadata": {},
     "output_type": "execute_result"
    }
   ],
   "source": [
    "model_4.best_params_\n"
   ]
  },
  {
   "cell_type": "code",
   "execution_count": 33,
   "metadata": {},
   "outputs": [],
   "source": [
    "y_preds = model_4.predict(X_test)"
   ]
  },
  {
   "cell_type": "code",
   "execution_count": 34,
   "metadata": {},
   "outputs": [
    {
     "data": {
      "image/png": "[encoded data removed]",
      "text/plain": [
       "<Figure size 432x288 with 1 Axes>"
      ]
     },
     "metadata": {
      "needs_background": "light"
     },
     "output_type": "display_data"
    }
   ],
   "source": [
    "# calculate fpr & tpr / graph roc curve\n",
    "probs = model_4.predict_proba(X_test)\n",
    "preds = probs[:,1]\n",
    "fpr, tpr, threshold = metrics.roc_curve(y_test, preds)\n",
    "roc_auc = metrics.auc(fpr, tpr)\n",
    "\n",
    "plt.title('Receiver Operating Characteristic: Model 4')\n",
    "plt.plot(fpr, tpr, 'g', label = 'AUC = %0.2f' % roc_auc)\n",
    "plt.legend(loc = 'lower right')\n",
    "plt.plot([0, 1], [0, 1],'k--')\n",
    "plt.xlim([0, 1])\n",
    "plt.ylim([0, 1])\n",
    "plt.ylabel('True Positive Rate')\n",
    "plt.xlabel('False Positive Rate')\n",
    "plt.show()"
   ]
  },
  {
   "cell_type": "code",
   "execution_count": 35,
   "metadata": {},
   "outputs": [
    {
     "name": "stdout",
     "output_type": "stream",
     "text": [
      "{'cvec__max_features': 700, 'cvec__min_df': 2, 'cvec__stop_words': 'english', 'rf__max_depth': 11, 'rf__n_estimators': 100}\n",
      "Train Accuracy: 0.9387755102040817\n",
      "Test Accuracy: 0.8527315914489311\n",
      "Best CV Test Score: 0.8540816326530613\n",
      "AUC: 0.9477\n"
     ]
    }
   ],
   "source": [
    "print(model_4.best_params_)\n",
    "print('Train Accuracy:', model_4.score(X_train, y_train))\n",
    "print('Test Accuracy:', model_4.score(X_test, y_test))\n",
    "print('Best CV Test Score:', model_4.best_score_)\n",
    "print('AUC:', round(roc_auc, 4))\n"
   ]
  },
  {
   "cell_type": "markdown",
   "metadata": {},
   "source": [
    "## Model 5: TF-IDF + Logistic Regression"
   ]
  },
  {
   "cell_type": "code",
   "execution_count": 36,
   "metadata": {},
   "outputs": [
    {
     "name": "stdout",
     "output_type": "stream",
     "text": [
      "[........................................] 100% | 86.52 sec | GridSearchCV \n"
     ]
    },
    {
     "data": {
      "text/plain": [
       "GridSearchCVProgressBar(cv=3, error_score='raise',\n",
       "            estimator=Pipeline(memory=None,\n",
       "     steps=[('tvec', TfidfVectorizer(analyzer='word', binary=False, decode_error='strict',\n",
       "        dtype=<class 'numpy.int64'>, encoding='utf-8', input='content',\n",
       "        lowercase=True, max_df=1.0, max_features=None, min_df=1,\n",
       "        ngram_range=(1, 1), norm='l2', preprocessor=None, smooth_idf=True,\n",
       "  ...ty='l2', random_state=None, solver='liblinear', tol=0.0001,\n",
       "          verbose=0, warm_start=False))]),\n",
       "            fit_params=None, iid=True, n_jobs=1,\n",
       "            param_grid={'tvec__stop_words': [None, 'english'], 'tvec__min_df': [10, 20, 50], 'tvec__max_features': [None, 700, 500, 200, 20], 'logr__penalty': ['l1', 'l2'], 'logr__C': [0.1, 0.4, 0.7, 1.0]},\n",
       "            pre_dispatch='2*n_jobs', refit=True, return_train_score='warn',\n",
       "            scoring=None, verbose=0)"
      ]
     },
     "execution_count": 36,
     "metadata": {},
     "output_type": "execute_result"
    }
   ],
   "source": [
    "pipe = Pipeline([\n",
    "    ('tvec', TfidfVectorizer()),\n",
    "    ('logr', LogisticRegression())])\n",
    "\n",
    "params = {\n",
    "    'tvec__stop_words': [None, 'english'],\n",
    "    'tvec__min_df' : [10, 20, 50],\n",
    "    'tvec__max_features' : [None, 700, 500, 200, 20],\n",
    "    'logr__penalty': ['l1', 'l2'],\n",
    "    'logr__C': [0.1, 0.4, 0.7, 1.0]}\n",
    "\n",
    "\n",
    "model_5 = GridSearchCVProgressBar(pipe, params, cv = 3)\n",
    "model_5.fit(X_train, y_train)"
   ]
  },
  {
   "cell_type": "code",
   "execution_count": 37,
   "metadata": {},
   "outputs": [
    {
     "data": {
      "text/plain": [
       "{'logr__C': 0.1,\n",
       " 'logr__penalty': 'l1',\n",
       " 'tvec__max_features': 200,\n",
       " 'tvec__min_df': 10,\n",
       " 'tvec__stop_words': 'english'}"
      ]
     },
     "execution_count": 37,
     "metadata": {},
     "output_type": "execute_result"
    }
   ],
   "source": [
    "model_5.best_params_"
   ]
  },
  {
   "cell_type": "code",
   "execution_count": 38,
   "metadata": {},
   "outputs": [],
   "source": [
    "y_preds = model_5.predict(X_test)"
   ]
  },
  {
   "cell_type": "code",
   "execution_count": 39,
   "metadata": {},
   "outputs": [
    {
     "data": {
      "image/png": "[encoded data removed]",
      "text/plain": [
       "<Figure size 432x288 with 1 Axes>"
      ]
     },
     "metadata": {
      "needs_background": "light"
     },
     "output_type": "display_data"
    }
   ],
   "source": [
    "# calculate fpr & tpr / graph roc curve\n",
    "probs = model_5.predict_proba(X_test)\n",
    "preds = probs[:,1]\n",
    "fpr, tpr, threshold = metrics.roc_curve(y_test, preds)\n",
    "roc_auc = metrics.auc(fpr, tpr)\n",
    "\n",
    "plt.title('Receiver Operating Characteristic: Model 5')\n",
    "plt.plot(fpr, tpr, 'g', label = 'AUC = %0.2f' % roc_auc)\n",
    "plt.legend(loc = 'lower right')\n",
    "plt.plot([0, 1], [0, 1],'k--')\n",
    "plt.xlim([0, 1])\n",
    "plt.ylim([0, 1])\n",
    "plt.ylabel('True Positive Rate')\n",
    "plt.xlabel('False Positive Rate')\n",
    "plt.show()"
   ]
  },
  {
   "cell_type": "code",
   "execution_count": 40,
   "metadata": {},
   "outputs": [
    {
     "name": "stdout",
     "output_type": "stream",
     "text": [
      "{'logr__C': 0.1, 'logr__penalty': 'l1', 'tvec__max_features': 200, 'tvec__min_df': 10, 'tvec__stop_words': 'english'}\n",
      "Train Accuracy: 0.8520408163265306\n",
      "Test Accuracy: 0.8551068883610451\n",
      "Best CV Test Score: 0.8561224489795919\n",
      "AUC: 0.9286\n"
     ]
    }
   ],
   "source": [
    "print(model_5.best_params_)\n",
    "print('Train Accuracy:', model_5.score(X_train, y_train))\n",
    "print('Test Accuracy:', model_5.score(X_test, y_test))\n",
    "print('Best CV Test Score:', model_5.best_score_)\n",
    "print('AUC:', round(roc_auc, 4))"
   ]
  },
  {
   "cell_type": "markdown",
   "metadata": {},
   "source": [
    "## Model 6: TF-IDF + KNN"
   ]
  },
  {
   "cell_type": "code",
   "execution_count": 41,
   "metadata": {},
   "outputs": [
    {
     "name": "stdout",
     "output_type": "stream",
     "text": [
      "[........................................] 100% | 73.63 sec | GridSearchCV \n"
     ]
    },
    {
     "data": {
      "text/plain": [
       "GridSearchCVProgressBar(cv=3, error_score='raise',\n",
       "            estimator=Pipeline(memory=None,\n",
       "     steps=[('tvec', TfidfVectorizer(analyzer='word', binary=False, decode_error='strict',\n",
       "        dtype=<class 'numpy.int64'>, encoding='utf-8', input='content',\n",
       "        lowercase=True, max_df=1.0, max_features=None, min_df=1,\n",
       "        ngram_range=(1, 1), norm='l2', preprocessor=None, smooth_idf=True,\n",
       "  ...owski',\n",
       "           metric_params=None, n_jobs=1, n_neighbors=5, p=2,\n",
       "           weights='uniform'))]),\n",
       "            fit_params=None, iid=True, n_jobs=1,\n",
       "            param_grid={'tvec__stop_words': [None, 'english'], 'tvec__min_df': [10, 20, 50], 'tvec__max_features': [None, 700, 500, 200, 20], 'knn__n_neighbors': [2, 7, 11, 27, 77]},\n",
       "            pre_dispatch='2*n_jobs', refit=True, return_train_score='warn',\n",
       "            scoring=None, verbose=0)"
      ]
     },
     "execution_count": 41,
     "metadata": {},
     "output_type": "execute_result"
    }
   ],
   "source": [
    "pipe = Pipeline([\n",
    "    ('tvec', TfidfVectorizer()),\n",
    "    ('knn', KNeighborsClassifier())])\n",
    "\n",
    "params = {\n",
    "    'tvec__stop_words': [None, 'english'],\n",
    "    'tvec__min_df' : [10, 20, 50],\n",
    "    'tvec__max_features' : [None, 700, 500, 200, 20],\n",
    "    'knn__n_neighbors': [2, 7, 11, 27, 77]}\n",
    "\n",
    "\n",
    "model_6 = GridSearchCVProgressBar(pipe, params, cv = 3)\n",
    "model_6.fit(X_train, y_train)"
   ]
  },
  {
   "cell_type": "code",
   "execution_count": 42,
   "metadata": {},
   "outputs": [
    {
     "data": {
      "text/plain": [
       "{'knn__n_neighbors': 77,\n",
       " 'tvec__max_features': 200,\n",
       " 'tvec__min_df': 20,\n",
       " 'tvec__stop_words': 'english'}"
      ]
     },
     "execution_count": 42,
     "metadata": {},
     "output_type": "execute_result"
    }
   ],
   "source": [
    "model_6.best_params_"
   ]
  },
  {
   "cell_type": "code",
   "execution_count": 43,
   "metadata": {},
   "outputs": [],
   "source": [
    "y_preds = model_6.predict(X_test)"
   ]
  },
  {
   "cell_type": "code",
   "execution_count": 44,
   "metadata": {},
   "outputs": [
    {
     "data": {
      "image/png": "[encoded data removed]",
      "text/plain": [
       "<Figure size 432x288 with 1 Axes>"
      ]
     },
     "metadata": {
      "needs_background": "light"
     },
     "output_type": "display_data"
    }
   ],
   "source": [
    "# calculate fpr & tpr / graph roc curve\n",
    "probs = model_6.predict_proba(X_test)\n",
    "preds = probs[:,1]\n",
    "fpr, tpr, threshold = metrics.roc_curve(y_test, preds)\n",
    "roc_auc = metrics.auc(fpr, tpr)\n",
    "\n",
    "plt.title('Receiver Operating Characteristic: Model 6')\n",
    "plt.plot(fpr, tpr, 'g', label = 'AUC = %0.2f' % roc_auc)\n",
    "plt.legend(loc = 'lower right')\n",
    "plt.plot([0, 1], [0, 1],'k--')\n",
    "plt.xlim([0, 1])\n",
    "plt.ylim([0, 1])\n",
    "plt.ylabel('True Positive Rate')\n",
    "plt.xlabel('False Positive Rate')\n",
    "plt.show()"
   ]
  },
  {
   "cell_type": "code",
   "execution_count": 45,
   "metadata": {},
   "outputs": [
    {
     "name": "stdout",
     "output_type": "stream",
     "text": [
      "{'knn__n_neighbors': 77, 'tvec__max_features': 200, 'tvec__min_df': 20, 'tvec__stop_words': 'english'}\n",
      "Train Accuracy: 0.8183673469387756\n",
      "Test Accuracy: 0.8076009501187649\n",
      "Best CV Test Score: 0.8295918367346938\n",
      "AUC: 0.9041\n"
     ]
    }
   ],
   "source": [
    "print(model_6.best_params_)\n",
    "print('Train Accuracy:', model_6.score(X_train, y_train))\n",
    "print('Test Accuracy:', model_6.score(X_test, y_test))\n",
    "print('Best CV Test Score:', model_6.best_score_)\n",
    "print('AUC:', round(roc_auc, 4))"
   ]
  },
  {
   "cell_type": "markdown",
   "metadata": {},
   "source": [
    "## Model 7: TF-IDF + Naive Bayes"
   ]
  },
  {
   "cell_type": "code",
   "execution_count": 46,
   "metadata": {},
   "outputs": [
    {
     "name": "stdout",
     "output_type": "stream",
     "text": [
      "[........................................] 100% | 7.36 sec | GridSearchCV \n"
     ]
    },
    {
     "data": {
      "text/plain": [
       "GridSearchCVProgressBar(cv=3, error_score='raise',\n",
       "            estimator=Pipeline(memory=None,\n",
       "     steps=[('tvec', TfidfVectorizer(analyzer='word', binary=False, decode_error='strict',\n",
       "        dtype=<class 'numpy.int64'>, encoding='utf-8', input='content',\n",
       "        lowercase=True, max_df=1.0, max_features=None, min_df=1,\n",
       "        ngram_range=(1, 1), norm='l2', preprocessor=None, smooth_idf=True,\n",
       "  ...True,\n",
       "        vocabulary=None)), ('nb', MultinomialNB(alpha=1.0, class_prior=None, fit_prior=True))]),\n",
       "            fit_params=None, iid=True, n_jobs=1,\n",
       "            param_grid={'tvec__stop_words': [None, 'english'], 'tvec__min_df': [10, 20, 50], 'nb__alpha': [1, 0.1, 0.01]},\n",
       "            pre_dispatch='2*n_jobs', refit=True, return_train_score='warn',\n",
       "            scoring=None, verbose=0)"
      ]
     },
     "execution_count": 46,
     "metadata": {},
     "output_type": "execute_result"
    }
   ],
   "source": [
    "pipe = Pipeline([\n",
    "    ('tvec', TfidfVectorizer()),\n",
    "    ('nb', MultinomialNB())])\n",
    "\n",
    "params = {\n",
    "    'tvec__stop_words': [None, 'english'],\n",
    "    'tvec__min_df' : [10, 20, 50],\n",
    "    'nb__alpha': [1, 1e-1, 1e-2]}\n",
    "\n",
    "\n",
    "model_7 = GridSearchCVProgressBar(pipe, params, cv = 3)\n",
    "model_7.fit(X_train, y_train)"
   ]
  },
  {
   "cell_type": "code",
   "execution_count": 47,
   "metadata": {},
   "outputs": [
    {
     "data": {
      "text/plain": [
       "{'nb__alpha': 1, 'tvec__min_df': 50, 'tvec__stop_words': 'english'}"
      ]
     },
     "execution_count": 47,
     "metadata": {},
     "output_type": "execute_result"
    }
   ],
   "source": [
    "model_7.best_params_"
   ]
  },
  {
   "cell_type": "code",
   "execution_count": 48,
   "metadata": {},
   "outputs": [],
   "source": [
    "y_preds = model_7.predict(X_test)"
   ]
  },
  {
   "cell_type": "code",
   "execution_count": 49,
   "metadata": {},
   "outputs": [
    {
     "data": {
      "image/png": "[encoded data removed]",
      "text/plain": [
       "<Figure size 432x288 with 1 Axes>"
      ]
     },
     "metadata": {
      "needs_background": "light"
     },
     "output_type": "display_data"
    }
   ],
   "source": [
    "# calculate fpr & tpr / graph roc curve\n",
    "probs = model_7.predict_proba(X_test)\n",
    "preds = probs[:,1]\n",
    "fpr, tpr, threshold = metrics.roc_curve(y_test, preds)\n",
    "roc_auc = metrics.auc(fpr, tpr)\n",
    "\n",
    "plt.title('Receiver Operating Characteristic: Model 7')\n",
    "plt.plot(fpr, tpr, 'g', label = 'AUC = %0.2f' % roc_auc)\n",
    "plt.legend(loc = 'lower right')\n",
    "plt.plot([0, 1], [0, 1],'k--')\n",
    "plt.xlim([0, 1])\n",
    "plt.ylim([0, 1])\n",
    "plt.ylabel('True Positive Rate')\n",
    "plt.xlabel('False Positive Rate')\n",
    "plt.show()"
   ]
  },
  {
   "cell_type": "code",
   "execution_count": 50,
   "metadata": {},
   "outputs": [
    {
     "name": "stdout",
     "output_type": "stream",
     "text": [
      "{'nb__alpha': 1, 'tvec__min_df': 50, 'tvec__stop_words': 'english'}\n",
      "Train Accuracy: 0.8479591836734693\n",
      "Test Accuracy: 0.7885985748218527\n",
      "Best CV Test Score: 0.8214285714285714\n",
      "AUC: 0.9029\n"
     ]
    }
   ],
   "source": [
    "print(model_7.best_params_)\n",
    "print('Train Accuracy:', model_7.score(X_train, y_train))\n",
    "print('Test Accuracy:', model_7.score(X_test, y_test))\n",
    "print('Best CV Test Score:', model_7.best_score_)\n",
    "print('AUC:', round(roc_auc, 4))"
   ]
  },
  {
   "cell_type": "markdown",
   "metadata": {},
   "source": [
    "## Model 8: TF-IDF + Random Forest"
   ]
  },
  {
   "cell_type": "code",
   "execution_count": 51,
   "metadata": {},
   "outputs": [
    {
     "name": "stdout",
     "output_type": "stream",
     "text": [
      "[........................................] 100% | 78.45 sec | GridSearchCV \n"
     ]
    },
    {
     "data": {
      "text/plain": [
       "GridSearchCVProgressBar(cv=3, error_score='raise',\n",
       "            estimator=Pipeline(memory=None,\n",
       "     steps=[('tvec', TfidfVectorizer(analyzer='word', binary=False, decode_error='strict',\n",
       "        dtype=<class 'numpy.int64'>, encoding='utf-8', input='content',\n",
       "        lowercase=True, max_df=1.0, max_features=None, min_df=1,\n",
       "        ngram_range=(1, 1), norm='l2', preprocessor=None, smooth_idf=True,\n",
       "  ...n_jobs=1,\n",
       "            oob_score=False, random_state=None, verbose=0,\n",
       "            warm_start=False))]),\n",
       "            fit_params=None, iid=True, n_jobs=1,\n",
       "            param_grid={'tvec__stop_words': [None, 'english'], 'tvec__min_df': [10, 20, 50], 'rf__n_estimators': [10, 20, 50, 100, 200], 'rf__max_depth': [2, 7, 11]},\n",
       "            pre_dispatch='2*n_jobs', refit=True, return_train_score='warn',\n",
       "            scoring=None, verbose=0)"
      ]
     },
     "execution_count": 51,
     "metadata": {},
     "output_type": "execute_result"
    }
   ],
   "source": [
    "pipe = Pipeline([\n",
    "    ('tvec', TfidfVectorizer()),\n",
    "    ('rf', RandomForestClassifier())])\n",
    "\n",
    "params = {\n",
    "    'tvec__stop_words': [None, 'english'],\n",
    "    'tvec__min_df' : [10, 20, 50],\n",
    "    'rf__n_estimators': [10, 20, 50, 100, 200],\n",
    "    'rf__max_depth': [2,7,11]\n",
    "}\n",
    "\n",
    "\n",
    "model_8 = GridSearchCVProgressBar(pipe, params, cv = 3)\n",
    "model_8.fit(X_train, y_train)"
   ]
  },
  {
   "cell_type": "code",
   "execution_count": 52,
   "metadata": {},
   "outputs": [
    {
     "data": {
      "text/plain": [
       "{'rf__max_depth': 11,\n",
       " 'rf__n_estimators': 200,\n",
       " 'tvec__min_df': 10,\n",
       " 'tvec__stop_words': 'english'}"
      ]
     },
     "execution_count": 52,
     "metadata": {},
     "output_type": "execute_result"
    }
   ],
   "source": [
    "model_8.best_params_"
   ]
  },
  {
   "cell_type": "code",
   "execution_count": 53,
   "metadata": {},
   "outputs": [],
   "source": [
    "y_preds = model_8.predict(X_test)"
   ]
  },
  {
   "cell_type": "code",
   "execution_count": 54,
   "metadata": {},
   "outputs": [
    {
     "data": {
      "image/png": "[encoded data removed]",
      "text/plain": [
       "<Figure size 432x288 with 1 Axes>"
      ]
     },
     "metadata": {
      "needs_background": "light"
     },
     "output_type": "display_data"
    }
   ],
   "source": [
    "# calculate fpr & tpr / graph roc curve\n",
    "probs = model_8.predict_proba(X_test)\n",
    "preds = probs[:,1]\n",
    "fpr, tpr, threshold = metrics.roc_curve(y_test, preds)\n",
    "roc_auc = metrics.auc(fpr, tpr)\n",
    "\n",
    "# method I: plt\n",
    "import matplotlib.pyplot as plt\n",
    "plt.title('Receiver Operating Characteristic: Model 8')\n",
    "plt.plot(fpr, tpr, 'g', label = 'AUC = %0.2f' % roc_auc)\n",
    "plt.legend(loc = 'lower right')\n",
    "plt.plot([0, 1], [0, 1],'k--')\n",
    "plt.xlim([0, 1])\n",
    "plt.ylim([0, 1])\n",
    "plt.ylabel('True Positive Rate')\n",
    "plt.xlabel('False Positive Rate')\n",
    "plt.show()"
   ]
  },
  {
   "cell_type": "code",
   "execution_count": 55,
   "metadata": {},
   "outputs": [
    {
     "name": "stdout",
     "output_type": "stream",
     "text": [
      "{'rf__max_depth': 11, 'rf__n_estimators': 200, 'tvec__min_df': 10, 'tvec__stop_words': 'english'}\n",
      "Train Accuracy: 0.9408163265306122\n",
      "Test Accuracy: 0.838479809976247\n",
      "Best CV Test Score: 0.8540816326530613\n",
      "AUC: 0.9464\n"
     ]
    }
   ],
   "source": [
    "print(model_8.best_params_)\n",
    "print('Train Accuracy:', model_8.score(X_train, y_train))\n",
    "print('Test Accuracy:', model_8.score(X_test, y_test))\n",
    "print('Best CV Test Score:', model_8.best_score_)\n",
    "print('AUC:', round(roc_auc, 4))"
   ]
  },
  {
   "cell_type": "markdown",
   "metadata": {},
   "source": [
    "## Model 9: Count Vectorizer + Logistic Regression\n",
    "##### Same as Model 1, adding 'Lyft' and 'Uber' to stop words to investigate how this affects model performance."
   ]
  },
  {
   "cell_type": "code",
   "execution_count": 56,
   "metadata": {},
   "outputs": [],
   "source": [
    "stops = list(stop_words.ENGLISH_STOP_WORDS)"
   ]
  },
  {
   "cell_type": "code",
   "execution_count": 57,
   "metadata": {},
   "outputs": [],
   "source": [
    "other = ['lyft', 'uber', 'Lyft', 'Uber']\n",
    "stops.extend(other)"
   ]
  },
  {
   "cell_type": "code",
   "execution_count": 58,
   "metadata": {},
   "outputs": [
    {
     "name": "stdout",
     "output_type": "stream",
     "text": [
      "[........................................] 100% | 62.12 sec | GridSearchCV \n"
     ]
    },
    {
     "data": {
      "text/plain": [
       "GridSearchCVProgressBar(cv=3, error_score='raise',\n",
       "            estimator=Pipeline(memory=None,\n",
       "     steps=[('cvec', CountVectorizer(analyzer='word', binary=False, decode_error='strict',\n",
       "        dtype=<class 'numpy.int64'>, encoding='utf-8', input='content',\n",
       "        lowercase=True, max_df=1.0, max_features=None, min_df=1,\n",
       "        ngram_range=(1, 1), preprocessor=None,\n",
       "        stop_words=['towards',...ty='l2', random_state=None, solver='liblinear', tol=0.0001,\n",
       "          verbose=0, warm_start=False))]),\n",
       "            fit_params=None, iid=True, n_jobs=1,\n",
       "            param_grid={'cvec__min_df': [2, 11, 22, 54], 'cvec__max_features': [None, 700, 500, 200, 20], 'logr__penalty': ['l1', 'l2'], 'logr__C': [0.1, 0.4, 0.7, 1.0]},\n",
       "            pre_dispatch='2*n_jobs', refit=True, return_train_score='warn',\n",
       "            scoring=None, verbose=0)"
      ]
     },
     "execution_count": 58,
     "metadata": {},
     "output_type": "execute_result"
    }
   ],
   "source": [
    "pipe = Pipeline([\n",
    "    ('cvec', CountVectorizer(stop_words=stops)),\n",
    "    ('logr', LogisticRegression())])\n",
    "\n",
    "params = {\n",
    "    'cvec__min_df' : [2, 11, 22, 54],\n",
    "    'cvec__max_features' : [None, 700, 500, 200, 20],\n",
    "    'logr__penalty': ['l1', 'l2'],\n",
    "    'logr__C': [0.1, 0.4, 0.7, 1.0]}\n",
    "\n",
    "\n",
    "model_9 = GridSearchCVProgressBar(pipe, params, cv = 3)\n",
    "model_9.fit(X_train, y_train)"
   ]
  },
  {
   "cell_type": "code",
   "execution_count": 59,
   "metadata": {},
   "outputs": [
    {
     "data": {
      "text/plain": [
       "{'cvec__max_features': 500,\n",
       " 'cvec__min_df': 2,\n",
       " 'logr__C': 0.1,\n",
       " 'logr__penalty': 'l2'}"
      ]
     },
     "execution_count": 59,
     "metadata": {},
     "output_type": "execute_result"
    }
   ],
   "source": [
    "model_9.best_params_"
   ]
  },
  {
   "cell_type": "code",
   "execution_count": 60,
   "metadata": {},
   "outputs": [],
   "source": [
    "y_preds = model_9.predict(X_test)"
   ]
  },
  {
   "cell_type": "code",
   "execution_count": 61,
   "metadata": {},
   "outputs": [
    {
     "data": {
      "image/png": "[encoded data removed]",
      "text/plain": [
       "<Figure size 432x288 with 1 Axes>"
      ]
     },
     "metadata": {
      "needs_background": "light"
     },
     "output_type": "display_data"
    }
   ],
   "source": [
    "# calculate fpr & tpr / graph roc curve\n",
    "probs = model_9.predict_proba(X_test)\n",
    "preds = probs[:,1]\n",
    "fpr, tpr, threshold = metrics.roc_curve(y_test, preds)\n",
    "roc_auc = metrics.auc(fpr, tpr)\n",
    "\n",
    "# method I: plt\n",
    "import matplotlib.pyplot as plt\n",
    "plt.title('Receiver Operating Characteristic: Model 9')\n",
    "plt.plot(fpr, tpr, 'g', label = 'AUC = %0.2f' % roc_auc)\n",
    "plt.legend(loc = 'lower right')\n",
    "plt.plot([0, 1], [0, 1],'k--')\n",
    "plt.xlim([0, 1])\n",
    "plt.ylim([0, 1])\n",
    "plt.ylabel('True Positive Rate')\n",
    "plt.xlabel('False Positive Rate')\n",
    "plt.show()"
   ]
  },
  {
   "cell_type": "code",
   "execution_count": 62,
   "metadata": {},
   "outputs": [
    {
     "name": "stdout",
     "output_type": "stream",
     "text": [
      "{'cvec__max_features': 500, 'cvec__min_df': 2, 'logr__C': 0.1, 'logr__penalty': 'l2'}\n",
      "Train Accuracy: 0.8\n",
      "Test Accuracy: 0.6389548693586699\n",
      "Best CV Test Score: 0.6081632653061224\n",
      "AUC: 0.6832\n"
     ]
    }
   ],
   "source": [
    "print(model_9.best_params_)\n",
    "print('Train Accuracy:', model_9.score(X_train, y_train))\n",
    "print('Test Accuracy:', model_9.score(X_test, y_test))\n",
    "print('Best CV Test Score:', model_9.best_score_)\n",
    "print('AUC:', round(roc_auc, 4))"
   ]
  },
  {
   "cell_type": "markdown",
   "metadata": {},
   "source": [
    "##### Removing 'lyft' and 'uber' from the stop words brings best accuracy score down from 85.7% to 63.89% (not much of an improvement from the baseline) and AUC ROC score from 0.94 to 0.68."
   ]
  },
  {
   "cell_type": "markdown",
   "metadata": {},
   "source": [
    "##### Overview of performance of all 9 models:\n",
    "\n",
    "| Model | Rank | Transformation Method | Classification Model | Test Score  | Train Score | Best CV Score    | AUC ROC   | Processing Seconds |   |\n",
    "|-------|------|-----------------------|----------------------|-------|-------|-------|-------|---------|---|\n",
    "| 1     | 1    | Count Vectorizer      | Logistic Regression  | 0.857 | 0.901 | 0.858 | 0.944 | 137.22  |   |\n",
    "| 5     | 2    | TF-IDF                | Logistic Regression  | 0.855 | 0.852 | 0.856 | 0.929 | 86.52   |   |\n",
    "| 4     | 3    | Count Vectorizer      | Random Forest        | 0.853 | 0.938 | 0.854 | 0.948 | 358.44  |   |\n",
    "| 2     | 4    | Count Vectorizer      | KNN                  | 0.846 | 0.852 | 0.849 | 0.930 | 100.21  |   |\n",
    "| 8     | 5    | TF-IDF                | Random Forest        | 0.839 | 0.941 | 0.854 | 0.946 | 78.45   |   |\n",
    "| 3     | 6    | Count Vectorizer      | Naive Bayes          | 0.819 | 0.878 | 0.820 | 0.915 | 185.08  |   |\n",
    "| 6     | 7    | TF-IDF                | KNN                  | 0.808 | 0.818 | 0.830 | 0.904 | 73.63   |   |\n",
    "| 7     | 8    | TF-IDF                | Naive Bayes          | 0.789 | 0.848 | 0.821 | 0.903 | 7.36    |   |\n",
    "| 9     | 9    | Count Vectorizer      | Logistic Regression  | 0.639 | 0.800 | 0.608 | 0.683 | 62.12   |   |"
   ]
  }
 ],
 "metadata": {
  "kernelspec": {
   "display_name": "Python 3",
   "language": "python",
   "name": "python3"
  },
  "language_info": {
   "codemirror_mode": {
    "name": "ipython",
    "version": 3
   },
   "file_extension": ".py",
   "mimetype": "text/x-python",
   "name": "python",
   "nbconvert_exporter": "python",
   "pygments_lexer": "ipython3",
   "version": "3.6.8"
  }
 },
 "nbformat": 4,
 "nbformat_minor": 2
}
