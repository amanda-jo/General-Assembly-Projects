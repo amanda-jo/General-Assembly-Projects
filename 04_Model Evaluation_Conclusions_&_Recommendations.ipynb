{
 "cells": [
  {
   "cell_type": "markdown",
   "metadata": {},
   "source": [
    "# Model Evaluation & Conclusions/Recommendations"
   ]
  },
  {
   "cell_type": "code",
   "execution_count": 7,
   "metadata": {},
   "outputs": [],
   "source": [
    "import pandas as pd\n",
    "import numpy as np\n",
    "import matplotlib.pyplot as plt\n",
    "import seaborn as sns"
   ]
  },
  {
   "cell_type": "markdown",
   "metadata": {},
   "source": [
    "##### Overview of performance of all 9 models:\n",
    "\n",
    "| Model | Rank | Transformation Method | Classification Model | Test Score  | Train Score | Best CV Score    | AUC ROC   | Processing Seconds |   |\n",
    "|-------|------|-----------------------|----------------------|-------|-------|-------|-------|---------|---|\n",
    "| 1     | 1    | Count Vectorizer      | Logistic Regression  | 0.857 | 0.901 | 0.858 | 0.944 | 137.22  |   |\n",
    "| 5     | 2    | TF-IDF                | Logistic Regression  | 0.855 | 0.852 | 0.856 | 0.929 | 86.52   |   |\n",
    "| 4     | 3    | Count Vectorizer      | Random Forest        | 0.853 | 0.938 | 0.854 | 0.948 | 358.44  |   |\n",
    "| 2     | 4    | Count Vectorizer      | KNN                  | 0.846 | 0.852 | 0.849 | 0.930 | 100.21  |   |\n",
    "| 8     | 5    | TF-IDF                | Random Forest        | 0.839 | 0.941 | 0.854 | 0.946 | 78.45   |   |\n",
    "| 3     | 6    | Count Vectorizer      | Naive Bayes          | 0.819 | 0.878 | 0.820 | 0.915 | 185.08  |   |\n",
    "| 6     | 7    | TF-IDF                | KNN                  | 0.808 | 0.818 | 0.830 | 0.904 | 73.63   |   |\n",
    "| 7     | 8    | TF-IDF                | Naive Bayes          | 0.789 | 0.848 | 0.821 | 0.903 | 7.36    |   |\n",
    "| 9     | 9    | Count Vectorizer      | Logistic Regression  | 0.639 | 0.800 | 0.608 | 0.683 | 62.12   |   |"
   ]
  },
  {
   "cell_type": "markdown",
   "metadata": {},
   "source": [
    "The best peforming model for this project was the combination of using a Count Vectorizor to transform the data and a Logistic Regression model to predict each class. \n",
    "\n",
    "**Best parameters as suggested by Grid Search results:**<br>\n",
    "•COUNT VECTORIZER - max_features: 200 / min_df: 11 / stop_words: english<br>\n",
    "•LOGISTIC REGRESSION - C: 0.1 / penalty: l2 (Ridge)\n",
    " \n",
    " **Confusion Matrix values from best model:**<br>\n",
    "•Accuracy: 85.7%<br>\n",
    "•Sensitivity: 77.8%<br>\n",
    "•Specificity: 92.5%<br>\n",
    "•Precision: 91.2%"
   ]
  },
  {
   "cell_type": "markdown",
   "metadata": {},
   "source": [
    "There is still some room for improvement to possibly increase the accuracy to something above 85.7%. This could potentially be achieved by further experimenting with hyperparameters of the existing models and then implementing additional transformation methods and/or classification models."
   ]
  },
  {
   "cell_type": "markdown",
   "metadata": {},
   "source": [
    "### Outside Research & Business Recommendations"
   ]
  },
  {
   "cell_type": "markdown",
   "metadata": {},
   "source": [
    "Upon conducting some basic research into Uber and Lyft, it is very apparent that Uber has a substantial lead in many aspects. It was launched in March 2009, is available in 65 countries, averages 15 million rides per day, is valued at $72 billion, and has even expanded to include subsidiaries such as Uber Eats and Jump Bikes. On the other hand, Lyft arrived on the scene 3 years later (June 2012), is only available in the USA & Canada (with no current plans to spread to other countries), averages only 1 million rides per day, and is valued at $15 billion. Lyft also has ventured into new markets such as a \"Minnie Van\" service at Walt Disney World Resort as well as scooter & bike-sharing industries, however these also pale in comparison to Uber's expansion projects. \n",
    "\n",
    "However, based on the the results obtained with Model 9, it can be inferred that from a user perspective, Lyft and Uber are strikingly similar. Without the presence of the primary indicator of 'lyft' or 'uber' being included in the valid words upon which to make classification predictions, even the best model performed quite poorly in distinguishing whether a post came from the Lyft subreddit or the Uber one. Therefore, it seems that their key customers (drivers and riders) essentially tend to express very similar sentiments, whether it be complaints, questions, advice or sharing other general information.\n",
    "\n",
    "Another notable statistic found during additinal research is that the average ride rating for Lyft is 4.8, compared to only 4.4 for Uber. Also, in terms of online participation via the Reddit platform, Lyft actually has 15.2k people in its 'community' while there are only 13.9k who have joined the Uber 'community'. Lyft is clearly still outperforming Uber in some arenas even though they could otherwise be considered the underdog of the two.\n",
    "\n",
    "From a business perspective, I believe it would be the best interest for each company to take this information and these modeling techniques to better understand what their customers need and want. The benefit of Reddit is that is a completely netural platform (not generated or moderated by either company while as their respective Twitter, Facebook, and App ratings are), and this allows the contributors to post more genuine, authentic feelings. If Lyft and Uber don't do this already, I think it would be beneficial for each company to pay attention to these subreddits. The same data acquistition techniques could be used periodically in order to track changes in customer sentiments over time. Instead of using classification to determine the origin of the subreddit (which is already clear), a more powerful application of these techniques would be to classify each post based on who wrote it (rider or driver), the intended audience (rider/driver/company itself), and which type of post it is (complaint, question (such as app functionality or etiquette), advice, general information sharing, etc.). If organized and analyzed properly, the content provided in the subreddits could provide invaluable information for each company, allowing them to prevent problems, get ideas for new features, gain direct insight from their competitor's customers, and ultimately ensure that their own customers feel heard and valued, which is proven to be crucial for consumer retention.\n"
   ]
  },
  {
   "cell_type": "markdown",
   "metadata": {},
   "source": [
    "##### Sources:\n",
    "http://www.businessofapps.com/data/uber-statistics <br>\n",
    "http://www.businessofapps.com/data/lyft-statistics"
   ]
  },
  {
   "cell_type": "code",
   "execution_count": null,
   "metadata": {},
   "outputs": [],
   "source": []
  }
 ],
 "metadata": {
  "kernelspec": {
   "display_name": "Python 3",
   "language": "python",
   "name": "python3"
  },
  "language_info": {
   "codemirror_mode": {
    "name": "ipython",
    "version": 3
   },
   "file_extension": ".py",
   "mimetype": "text/x-python",
   "name": "python",
   "nbconvert_exporter": "python",
   "pygments_lexer": "ipython3",
   "version": "3.6.8"
  }
 },
 "nbformat": 4,
 "nbformat_minor": 2
}
