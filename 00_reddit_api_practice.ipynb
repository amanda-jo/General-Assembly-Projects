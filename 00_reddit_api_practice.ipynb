{
 "cells": [
  {
   "cell_type": "code",
   "execution_count": 1,
   "metadata": {},
   "outputs": [],
   "source": [
    "# url = 'https://www.reddit.com/r/MarchForScience.json'\n",
    "\n",
    "# res = requests.get(url)\n",
    "\n",
    "# res.status_code\n",
    "\n",
    "# headers = {'user-agent' : 'moi'}\n",
    "\n",
    "# res = requests.get(url, headers=headers)\n",
    "\n",
    "# res.status_code\n",
    "\n",
    "# res.content\n",
    "\n",
    "# res.json()\n",
    "\n",
    "# the_json = res.json()\n",
    "\n",
    "# the_json.keys()\n",
    "\n",
    "# sorted(the_json.keys())\n",
    "\n",
    "# the_json['kind']\n",
    "\n",
    "# the_json['data']\n",
    "\n",
    "# sorted(the_json['data'].keys())\n",
    "\n",
    "# the_json['data']['children']\n",
    "\n",
    "# len(the_json['data']['children'])\n",
    "\n",
    "# pd.DataFrame(the_json['data']['children']).head(2)\n",
    "\n",
    "# the_json['data']['children'][0]\n",
    "\n",
    "# ##### each thread:\n",
    "# -title of the thread <br>\n",
    "# -subreddit that the thread corresponds to <br>\n",
    "# -length of time it has been up on reddit <br>\n",
    "# -number of comments on the thread <br>\n",
    "\n",
    "# the_json['data']['after']\n",
    "\n",
    "# [post['data']['name'] for post in the_json['data']['children']]\n",
    "\n",
    "# param = {'after' : 't3_b5avcl'}\n",
    "\n",
    "# requests.get(url, params=param, headers=headers)"
   ]
  },
  {
   "cell_type": "code",
   "execution_count": null,
   "metadata": {},
   "outputs": [],
   "source": []
  }
 ],
 "metadata": {
  "kernelspec": {
   "display_name": "Python 3",
   "language": "python",
   "name": "python3"
  },
  "language_info": {
   "codemirror_mode": {
    "name": "ipython",
    "version": 3
   },
   "file_extension": ".py",
   "mimetype": "text/x-python",
   "name": "python",
   "nbconvert_exporter": "python",
   "pygments_lexer": "ipython3",
   "version": "3.6.8"
  }
 },
 "nbformat": 4,
 "nbformat_minor": 2
}
