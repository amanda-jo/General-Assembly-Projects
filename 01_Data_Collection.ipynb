{
 "cells": [
  {
   "cell_type": "markdown",
   "metadata": {},
   "source": [
    "# Amanda Jo Russell\n",
    "# Project 3: Web APIs & Classification"
   ]
  },
  {
   "cell_type": "markdown",
   "metadata": {},
   "source": [
    "# Data Science Problem\n",
    "\n",
    "Utilizing text collected from two different subreddits, this project seeks to predict the correct subreddit origin of a given post. Several processes will be used such as data acquisition via the Reddit API and natural language processing (NLP) methods, and various classification models will be implemented to analyze the performance results of each. The two subreddits chosen for this project were those pertaining to the ride-sharing companies Lyft and Uber. These were carefully chosen based on my genuine curiosity between the two companies, as they are practically interchangeable from a user perspective despite their vast and notable distinctions from a stakeholder perspective. An almost equal amount of posts were collected from each subreddit (701 from Lyft and 700 from Uber), primarily using only the post title and core text to train and test the models. The observations and insights gained from the data and models will be used to address business implications and recommendations for the respective companies."
   ]
  },
  {
   "cell_type": "markdown",
   "metadata": {},
   "source": [
    "# Executive Summary\n",
    "\n",
    "•Data Science Problem Statement <br>\n",
    "•Data Collection <br>\n",
    "•Data Cleaning & EDA <br>\n",
    "•Preprocessing & Modeling <br>\n",
    "•Evaluation and Conceptual Understanding | Conclusion and Recommendations"
   ]
  },
  {
   "cell_type": "markdown",
   "metadata": {},
   "source": [
    "# Data Collection"
   ]
  },
  {
   "cell_type": "markdown",
   "metadata": {},
   "source": [
    "##### Imported libraries."
   ]
  },
  {
   "cell_type": "code",
   "execution_count": 1,
   "metadata": {},
   "outputs": [],
   "source": [
    "import requests\n",
    "import json\n",
    "import time\n",
    "import pandas as pd"
   ]
  },
  {
   "cell_type": "markdown",
   "metadata": {},
   "source": [
    "##### Imported list of posts from first subreddit."
   ]
  },
  {
   "cell_type": "code",
   "execution_count": 2,
   "metadata": {},
   "outputs": [
    {
     "name": "stdout",
     "output_type": "stream",
     "text": [
      "0\n",
      "1\n",
      "2\n",
      "3\n",
      "4\n",
      "5\n",
      "6\n",
      "7\n",
      "8\n",
      "9\n",
      "10\n",
      "11\n",
      "12\n",
      "13\n",
      "14\n",
      "15\n",
      "16\n",
      "17\n",
      "18\n",
      "19\n",
      "20\n",
      "21\n",
      "22\n",
      "23\n",
      "24\n",
      "25\n",
      "26\n",
      "27\n"
     ]
    }
   ],
   "source": [
    "first_posts = []\n",
    "headers = {'user-agent' : 'moi'}\n",
    "after = None\n",
    "for i in range(28):\n",
    "    print(i)\n",
    "    if after == None:\n",
    "        params = {}\n",
    "    else:\n",
    "        params = {'after': after}\n",
    "    first_url = 'https://www.reddit.com/r/Lyft/.json'\n",
    "    first_res = requests.get(first_url, params=params, headers=headers)\n",
    "    if first_res.status_code == 200:\n",
    "        first_json = first_res.json()\n",
    "        first_posts.extend(first_json['data']['children'])\n",
    "        after = first_json['data']['after']\n",
    "    else:\n",
    "        print(res.first_status_code)\n",
    "        break\n",
    "    time.sleep(2)"
   ]
  },
  {
   "cell_type": "markdown",
   "metadata": {},
   "source": [
    "##### Imported list of posts from second subreddit."
   ]
  },
  {
   "cell_type": "code",
   "execution_count": 3,
   "metadata": {},
   "outputs": [
    {
     "name": "stdout",
     "output_type": "stream",
     "text": [
      "0\n",
      "1\n",
      "2\n",
      "3\n",
      "4\n",
      "5\n",
      "6\n",
      "7\n",
      "8\n",
      "9\n",
      "10\n",
      "11\n",
      "12\n",
      "13\n",
      "14\n",
      "15\n",
      "16\n",
      "17\n",
      "18\n",
      "19\n",
      "20\n",
      "21\n",
      "22\n",
      "23\n",
      "24\n",
      "25\n",
      "26\n",
      "27\n"
     ]
    }
   ],
   "source": [
    "second_posts = []\n",
    "headers = {'user-agent' : 'moi'}\n",
    "after = None\n",
    "for i in range(28):\n",
    "    print(i)\n",
    "    if after == None:\n",
    "        params = {}\n",
    "    else:\n",
    "        params = {'after': after}\n",
    "    second_url ='https://www.reddit.com/r/uber/.json'\n",
    "    second_res = requests.get(second_url, params=params, headers=headers)\n",
    "    if second_res.status_code == 200:\n",
    "        second_json = second_res.json()\n",
    "        second_posts.extend(second_json['data']['children'])\n",
    "        after = second_json['data']['after']\n",
    "    else:\n",
    "        print(res.second_status_code)\n",
    "        break\n",
    "    time.sleep(2)\n",
    "    "
   ]
  },
  {
   "cell_type": "markdown",
   "metadata": {},
   "source": [
    "##### Observed full length of each list,  then check how many unique values will remain after removing duplicates."
   ]
  },
  {
   "cell_type": "code",
   "execution_count": 4,
   "metadata": {},
   "outputs": [
    {
     "name": "stdout",
     "output_type": "stream",
     "text": [
      "701\n",
      "701\n"
     ]
    }
   ],
   "source": [
    "print(len(first_posts))\n",
    "print(len(set([p['data']['name'] for p in first_posts])))"
   ]
  },
  {
   "cell_type": "code",
   "execution_count": 5,
   "metadata": {},
   "outputs": [
    {
     "name": "stdout",
     "output_type": "stream",
     "text": [
      "700\n",
      "700\n"
     ]
    }
   ],
   "source": [
    "print(len(second_posts))\n",
    "print(len(set([p['data']['name'] for p in second_posts])))"
   ]
  },
  {
   "cell_type": "markdown",
   "metadata": {},
   "source": [
    "##### Turned each list into a dataframe with only specific columns we need."
   ]
  },
  {
   "cell_type": "code",
   "execution_count": 18,
   "metadata": {},
   "outputs": [
    {
     "data": {
      "text/html": [
       "<div>\n",
       "<style scoped>\n",
       "    .dataframe tbody tr th:only-of-type {\n",
       "        vertical-align: middle;\n",
       "    }\n",
       "\n",
       "    .dataframe tbody tr th {\n",
       "        vertical-align: top;\n",
       "    }\n",
       "\n",
       "    .dataframe thead th {\n",
       "        text-align: right;\n",
       "    }\n",
       "</style>\n",
       "<table border=\"1\" class=\"dataframe\">\n",
       "  <thead>\n",
       "    <tr style=\"text-align: right;\">\n",
       "      <th></th>\n",
       "      <th>title</th>\n",
       "      <th>selftext</th>\n",
       "      <th>name</th>\n",
       "      <th>subreddit</th>\n",
       "    </tr>\n",
       "  </thead>\n",
       "  <tbody>\n",
       "    <tr>\n",
       "      <th>0</th>\n",
       "      <td>PROMO CODE THREAD - Post your promo codes here...</td>\n",
       "      <td>Looks like we need another code thread. \\n\\nIf...</td>\n",
       "      <td>t3_8so63i</td>\n",
       "      <td>Lyft</td>\n",
       "    </tr>\n",
       "    <tr>\n",
       "      <th>1</th>\n",
       "      <td>Does this seem fair?</td>\n",
       "      <td></td>\n",
       "      <td>t3_b92sgl</td>\n",
       "      <td>Lyft</td>\n",
       "    </tr>\n",
       "    <tr>\n",
       "      <th>2</th>\n",
       "      <td>I got accused of being high/drunk while drivin...</td>\n",
       "      <td>So I’ve been driving for Lyft for 6 months. It...</td>\n",
       "      <td>t3_b983ym</td>\n",
       "      <td>Lyft</td>\n",
       "    </tr>\n",
       "    <tr>\n",
       "      <th>3</th>\n",
       "      <td>Is holding lost phones captive for big money r...</td>\n",
       "      <td></td>\n",
       "      <td>t3_b96ipv</td>\n",
       "      <td>Lyft</td>\n",
       "    </tr>\n",
       "    <tr>\n",
       "      <th>4</th>\n",
       "      <td>Is it just me or is the Lyft Driver app glitch...</td>\n",
       "      <td>Every single ride request I get has the estima...</td>\n",
       "      <td>t3_b95rnx</td>\n",
       "      <td>Lyft</td>\n",
       "    </tr>\n",
       "  </tbody>\n",
       "</table>\n",
       "</div>"
      ],
      "text/plain": [
       "                                               title  \\\n",
       "0  PROMO CODE THREAD - Post your promo codes here...   \n",
       "1                               Does this seem fair?   \n",
       "2  I got accused of being high/drunk while drivin...   \n",
       "3  Is holding lost phones captive for big money r...   \n",
       "4  Is it just me or is the Lyft Driver app glitch...   \n",
       "\n",
       "                                            selftext       name subreddit  \n",
       "0  Looks like we need another code thread. \\n\\nIf...  t3_8so63i      Lyft  \n",
       "1                                                     t3_b92sgl      Lyft  \n",
       "2  So I’ve been driving for Lyft for 6 months. It...  t3_b983ym      Lyft  \n",
       "3                                                     t3_b96ipv      Lyft  \n",
       "4  Every single ride request I get has the estima...  t3_b95rnx      Lyft  "
      ]
     },
     "execution_count": 18,
     "metadata": {},
     "output_type": "execute_result"
    }
   ],
   "source": [
    "title_list = [p['data']['title'] for p in first_posts]\n",
    "selftext_list = [p['data']['selftext'] for p in first_posts]\n",
    "name_list = [p['data']['name'] for p in first_posts]\n",
    "subreddit_name = [p['data']['subreddit'] for p in first_posts]\n",
    "\n",
    "first_df = pd.DataFrame({'title':title_list, 'selftext':selftext_list, 'name':name_list, 'subreddit':subreddit_name})\n",
    "first_df.head()"
   ]
  },
  {
   "cell_type": "code",
   "execution_count": 19,
   "metadata": {},
   "outputs": [
    {
     "data": {
      "text/html": [
       "<div>\n",
       "<style scoped>\n",
       "    .dataframe tbody tr th:only-of-type {\n",
       "        vertical-align: middle;\n",
       "    }\n",
       "\n",
       "    .dataframe tbody tr th {\n",
       "        vertical-align: top;\n",
       "    }\n",
       "\n",
       "    .dataframe thead th {\n",
       "        text-align: right;\n",
       "    }\n",
       "</style>\n",
       "<table border=\"1\" class=\"dataframe\">\n",
       "  <thead>\n",
       "    <tr style=\"text-align: right;\">\n",
       "      <th></th>\n",
       "      <th>title</th>\n",
       "      <th>selftext</th>\n",
       "      <th>name</th>\n",
       "      <th>subreddit</th>\n",
       "    </tr>\n",
       "  </thead>\n",
       "  <tbody>\n",
       "    <tr>\n",
       "      <th>0</th>\n",
       "      <td>Reserved Uber for 4am-4:15am in advance. Car a...</td>\n",
       "      <td></td>\n",
       "      <td>t3_b8vqcn</td>\n",
       "      <td>uber</td>\n",
       "    </tr>\n",
       "    <tr>\n",
       "      <th>1</th>\n",
       "      <td>Uber taking tip money now? What’s up with thes...</td>\n",
       "      <td></td>\n",
       "      <td>t3_b93eo4</td>\n",
       "      <td>uber</td>\n",
       "    </tr>\n",
       "    <tr>\n",
       "      <th>2</th>\n",
       "      <td>Uber Deactivated my account?</td>\n",
       "      <td>So I order UberEATS around twice a day and the...</td>\n",
       "      <td>t3_b97uli</td>\n",
       "      <td>uber</td>\n",
       "    </tr>\n",
       "    <tr>\n",
       "      <th>3</th>\n",
       "      <td>Its just frustrating at times when the whole w...</td>\n",
       "      <td></td>\n",
       "      <td>t3_b95g4z</td>\n",
       "      <td>uber</td>\n",
       "    </tr>\n",
       "    <tr>\n",
       "      <th>4</th>\n",
       "      <td>jump bike - How do you know if you’re in a no ...</td>\n",
       "      <td>I’m interested in taking a jump bike to work b...</td>\n",
       "      <td>t3_b959gr</td>\n",
       "      <td>uber</td>\n",
       "    </tr>\n",
       "  </tbody>\n",
       "</table>\n",
       "</div>"
      ],
      "text/plain": [
       "                                               title  \\\n",
       "0  Reserved Uber for 4am-4:15am in advance. Car a...   \n",
       "1  Uber taking tip money now? What’s up with thes...   \n",
       "2                       Uber Deactivated my account?   \n",
       "3  Its just frustrating at times when the whole w...   \n",
       "4  jump bike - How do you know if you’re in a no ...   \n",
       "\n",
       "                                            selftext       name subreddit  \n",
       "0                                                     t3_b8vqcn      uber  \n",
       "1                                                     t3_b93eo4      uber  \n",
       "2  So I order UberEATS around twice a day and the...  t3_b97uli      uber  \n",
       "3                                                     t3_b95g4z      uber  \n",
       "4  I’m interested in taking a jump bike to work b...  t3_b959gr      uber  "
      ]
     },
     "execution_count": 19,
     "metadata": {},
     "output_type": "execute_result"
    }
   ],
   "source": [
    "title_list = [p['data']['title'] for p in second_posts]\n",
    "selftext_list = [p['data']['selftext'] for p in second_posts]\n",
    "name_list = [p['data']['name'] for p in second_posts]\n",
    "subreddit_name = [p['data']['subreddit'] for p in second_posts]\n",
    "\n",
    "second_df = pd.DataFrame({'title':title_list, 'selftext':selftext_list, 'name':name_list, 'subreddit':subreddit_name})\n",
    "second_df.head()"
   ]
  },
  {
   "cell_type": "markdown",
   "metadata": {},
   "source": [
    "##### Filtered through all rows and remove any duplicates (determined by unique 'name' code)."
   ]
  },
  {
   "cell_type": "code",
   "execution_count": 23,
   "metadata": {},
   "outputs": [],
   "source": [
    "first_df = first_df.drop_duplicates(['name'])\n",
    "second_df = second_df.drop_duplicates(['name'])"
   ]
  },
  {
   "cell_type": "markdown",
   "metadata": {},
   "source": [
    "##### Confirmed that shape has changed to match unique value count above."
   ]
  },
  {
   "cell_type": "code",
   "execution_count": 24,
   "metadata": {},
   "outputs": [
    {
     "name": "stdout",
     "output_type": "stream",
     "text": [
      "first (701, 4)\n",
      "second (700, 4)\n"
     ]
    }
   ],
   "source": [
    "print('first', first_df.shape)\n",
    "print('second', second_df.shape)"
   ]
  },
  {
   "cell_type": "markdown",
   "metadata": {},
   "source": [
    "##### Merged both dataframes together, shuffled rows, and saved as a csv file."
   ]
  },
  {
   "cell_type": "code",
   "execution_count": 29,
   "metadata": {},
   "outputs": [],
   "source": [
    "merge_posts = pd.concat([first_df, second_df], axis=0)"
   ]
  },
  {
   "cell_type": "code",
   "execution_count": 57,
   "metadata": {},
   "outputs": [
    {
     "data": {
      "text/html": [
       "<div>\n",
       "<style scoped>\n",
       "    .dataframe tbody tr th:only-of-type {\n",
       "        vertical-align: middle;\n",
       "    }\n",
       "\n",
       "    .dataframe tbody tr th {\n",
       "        vertical-align: top;\n",
       "    }\n",
       "\n",
       "    .dataframe thead th {\n",
       "        text-align: right;\n",
       "    }\n",
       "</style>\n",
       "<table border=\"1\" class=\"dataframe\">\n",
       "  <thead>\n",
       "    <tr style=\"text-align: right;\">\n",
       "      <th></th>\n",
       "      <th>title</th>\n",
       "      <th>selftext</th>\n",
       "      <th>name</th>\n",
       "      <th>subreddit</th>\n",
       "    </tr>\n",
       "  </thead>\n",
       "  <tbody>\n",
       "    <tr>\n",
       "      <th>0</th>\n",
       "      <td>Nightlife Playlist</td>\n",
       "      <td>I usually drive people going out to clubs. I w...</td>\n",
       "      <td>t3_b5xkl4</td>\n",
       "      <td>Lyft</td>\n",
       "    </tr>\n",
       "    <tr>\n",
       "      <th>1</th>\n",
       "      <td>Uber should add this feature to their app to m...</td>\n",
       "      <td>A woman was killed after mistaking someone els...</td>\n",
       "      <td>t3_b83pf5</td>\n",
       "      <td>uber</td>\n",
       "    </tr>\n",
       "    <tr>\n",
       "      <th>2</th>\n",
       "      <td>Interest in starting but I drive a Jeep</td>\n",
       "      <td>I want to start as a side business. I provide ...</td>\n",
       "      <td>t3_auo6v4</td>\n",
       "      <td>uber</td>\n",
       "    </tr>\n",
       "    <tr>\n",
       "      <th>3</th>\n",
       "      <td>Uber or Lyft while vacationing</td>\n",
       "      <td>So, I would like to start doing Uber or Lyft i...</td>\n",
       "      <td>t3_b96qf0</td>\n",
       "      <td>Lyft</td>\n",
       "    </tr>\n",
       "    <tr>\n",
       "      <th>4</th>\n",
       "      <td>I got co-erced into getting someone a Lyft, wh...</td>\n",
       "      <td>To make a long story short, I was co-erced and...</td>\n",
       "      <td>t3_anh5bz</td>\n",
       "      <td>Lyft</td>\n",
       "    </tr>\n",
       "  </tbody>\n",
       "</table>\n",
       "</div>"
      ],
      "text/plain": [
       "                                               title  \\\n",
       "0                                 Nightlife Playlist   \n",
       "1  Uber should add this feature to their app to m...   \n",
       "2            Interest in starting but I drive a Jeep   \n",
       "3                     Uber or Lyft while vacationing   \n",
       "4  I got co-erced into getting someone a Lyft, wh...   \n",
       "\n",
       "                                            selftext       name subreddit  \n",
       "0  I usually drive people going out to clubs. I w...  t3_b5xkl4      Lyft  \n",
       "1  A woman was killed after mistaking someone els...  t3_b83pf5      uber  \n",
       "2  I want to start as a side business. I provide ...  t3_auo6v4      uber  \n",
       "3  So, I would like to start doing Uber or Lyft i...  t3_b96qf0      Lyft  \n",
       "4  To make a long story short, I was co-erced and...  t3_anh5bz      Lyft  "
      ]
     },
     "execution_count": 57,
     "metadata": {},
     "output_type": "execute_result"
    }
   ],
   "source": [
    "all_posts = merge_posts.sample(frac=1).reset_index(drop=True)\n",
    "all_posts.head()"
   ]
  },
  {
   "cell_type": "code",
   "execution_count": 58,
   "metadata": {},
   "outputs": [],
   "source": [
    "all_posts.to_csv('./datasets/lyft_uber.csv', index=False)"
   ]
  }
 ],
 "metadata": {
  "kernelspec": {
   "display_name": "Python 3",
   "language": "python",
   "name": "python3"
  },
  "language_info": {
   "codemirror_mode": {
    "name": "ipython",
    "version": 3
   },
   "file_extension": ".py",
   "mimetype": "text/x-python",
   "name": "python",
   "nbconvert_exporter": "python",
   "pygments_lexer": "ipython3",
   "version": "3.6.8"
  }
 },
 "nbformat": 4,
 "nbformat_minor": 2
}
